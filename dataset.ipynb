{
 "cells": [
  {
   "attachments": {},
   "cell_type": "markdown",
   "metadata": {},
   "source": [
    "# 1. Load libraries"
   ]
  },
  {
   "cell_type": "code",
   "execution_count": 48,
   "metadata": {
    "tags": []
   },
   "outputs": [],
   "source": [
    "#Load libraries\n",
    "import os\n",
    "\n",
    "import numpy as np\n",
    "import torch\n",
    "import glob\n",
    "import torch.nn as nn\n",
    "from torch import optim\n",
    "from torchvision.transforms import transforms\n",
    "from torch.utils.data import DataLoader\n",
    "from torch.optim import Adam\n",
    "from torch.autograd import Variable\n",
    "import torchvision\n",
    "import pathlib\n",
    "import pandas as pd\n",
    "import matplotlib.pyplot as plt\n",
    "import seaborn as sb\n",
    "import cv2\n",
    "import time\n",
    "import copy\n",
    "from torch.optim import lr_scheduler\n",
    "\n",
    "\n",
    "import argparse\n",
    "import datetime\n",
    "import torch\n",
    "import json\n",
    "import numpy as np\n",
    "\n",
    "from pathlib import Path\n",
    "from tqdm import tqdm\n",
    "from torch.utils.tensorboard import SummaryWriter\n",
    "from sklearn.model_selection import train_test_split\n",
    "\n",
    "import torch.nn.functional as F\n",
    "from torchvision import datasets, models\n",
    "from torchvision.models import resnet18, ResNet18_Weights\n"
   ]
  },
  {
   "attachments": {},
   "cell_type": "markdown",
   "metadata": {},
   "source": [
    "# 2. Define Transforms"
   ]
  },
  {
   "cell_type": "code",
   "execution_count": 32,
   "metadata": {},
   "outputs": [],
   "source": [
    "# Define transforms for the training, validation, and testing sets\n",
    "training_transforms = transforms.Compose([transforms.RandomRotation(30),\n",
    "                                          transforms.RandomResizedCrop(224),\n",
    "                                          transforms.RandomHorizontalFlip(),\n",
    "                                          transforms.ToTensor(),\n",
    "                                          transforms.Normalize([0.485, 0.456, 0.406], \n",
    "                                                               [0.229, 0.224, 0.225])])\n",
    "\n",
    "validation_transforms = transforms.Compose([transforms.Resize(256),\n",
    "                                            transforms.CenterCrop(224),\n",
    "                                            transforms.ToTensor(),\n",
    "                                            transforms.Normalize([0.485, 0.456, 0.406], \n",
    "                                                                 [0.229, 0.224, 0.225])])\n",
    "\n",
    "testing_transforms = transforms.Compose([transforms.Resize(256),\n",
    "                                         transforms.CenterCrop(224),\n",
    "                                         transforms.ToTensor(),\n",
    "                                         transforms.Normalize([0.485, 0.456, 0.406], \n",
    "                                                              [0.229, 0.224, 0.225])])\n"
   ]
  },
  {
   "attachments": {},
   "cell_type": "markdown",
   "metadata": {},
   "source": [
    "# 3. Define Dataloader"
   ]
  },
  {
   "cell_type": "code",
   "execution_count": 33,
   "metadata": {},
   "outputs": [],
   "source": [
    "# Path for training, validation and testing directory\n",
    "\n",
    "data_dir = 'split_data'\n",
    "train_path = data_dir + '/train'\n",
    "val_path = data_dir + '/val'\n",
    "test_path = data_dir + '/test'"
   ]
  },
  {
   "cell_type": "code",
   "execution_count": 34,
   "metadata": {},
   "outputs": [],
   "source": [
    "\n",
    "# Load the datasets with ImageFolder :\n",
    "\n",
    "training_dataset = datasets.ImageFolder(train_path, transform=training_transforms)\n",
    "\n",
    "validation_dataset = datasets.ImageFolder(val_path, transform=validation_transforms)\n",
    "\n",
    "testing_dataset = datasets.ImageFolder(test_path, transform=testing_transforms)\n",
    "\n",
    "# Using the image datasets and the tranforms, define the dataloaders :\n",
    "\n",
    "train_loader = torch.utils.data.DataLoader(\n",
    "        training_dataset, batch_size=64, shuffle=True\n",
    ")\n",
    "\n",
    "val_loader = torch.utils.data.DataLoader(\n",
    "        validation_dataset, batch_size=32\n",
    ")\n",
    "\n",
    "test_loader = torch.utils.data.DataLoader(\n",
    "        testing_dataset, batch_size=16\n",
    ")\n"
   ]
  },
  {
   "cell_type": "code",
   "execution_count": 47,
   "metadata": {},
   "outputs": [
    {
     "name": "stdout",
     "output_type": "stream",
     "text": [
      "['DL', 'FO', 'OT']\n"
     ]
    }
   ],
   "source": [
    "# Print the different classes : \n",
    "root=pathlib.Path(train_path)\n",
    "classes=sorted([j.name.split('/')[-1] for j in root.iterdir()])\n",
    "print(classes)\n",
    "\n",
    "device = torch.device(\"cuda\" if torch.cuda.is_available() else \"cpu\")\n"
   ]
  },
  {
   "cell_type": "code",
   "execution_count": 51,
   "metadata": {},
   "outputs": [
    {
     "name": "stdout",
     "output_type": "stream",
     "text": [
      "3\n",
      "{'DL': 'Side angle', 'FO': 'Face-on angle', 'OT': 'other'}\n"
     ]
    }
   ],
   "source": [
    "# Label mapping : \n",
    "\n",
    "import json\n",
    "\n",
    "with open('angle_to_name.json', 'r') as f:\n",
    "    angle_to_name = json.load(f)\n",
    "    \n",
    "print(len(angle_to_name)) \n",
    "print(angle_to_name)"
   ]
  },
  {
   "attachments": {},
   "cell_type": "markdown",
   "metadata": {},
   "source": [
    "# 4. Build and train the classifier"
   ]
  },
  {
   "cell_type": "code",
   "execution_count": null,
   "metadata": {},
   "outputs": [],
   "source": [
    "model = models.vgg16(pretrained=True)\n",
    "model"
   ]
  },
  {
   "cell_type": "code",
   "execution_count": 69,
   "metadata": {},
   "outputs": [],
   "source": [
    "# Freeze pretrained model parameters to avoid backpropogating through them\n",
    "for parameter in model.parameters():\n",
    "    parameter.requires_grad = False\n",
    "\n",
    "\n",
    "from collections import OrderedDict\n",
    "\n",
    "# Build custom classifier\n",
    "classifier = nn.Sequential(OrderedDict([('fc1', nn.Linear(25088, 5000)),\n",
    "                                        ('relu', nn.ReLU()),\n",
    "                                        ('drop', nn.Dropout(p=0.5)),\n",
    "                                        ('fc2', nn.Linear(5000, 3)),\n",
    "                                        ('output', nn.LogSoftmax(dim=1))]))\n",
    "\n",
    "model.classifier = classifier"
   ]
  },
  {
   "cell_type": "code",
   "execution_count": 70,
   "metadata": {},
   "outputs": [],
   "source": [
    "# Function for the validation pass\n",
    "def validation(model, validateloader, criterion):\n",
    "    \n",
    "    val_loss = 0\n",
    "    accuracy = 0\n",
    "    \n",
    "    for images, labels in iter(validateloader):\n",
    "\n",
    "        #images, labels = images.to('cuda'), labels.to('cuda')\n",
    "\n",
    "        output = model.forward(images)\n",
    "        val_loss += criterion(output, labels).item()\n",
    "\n",
    "        probabilities = torch.exp(output)\n",
    "        \n",
    "        equality = (labels.data == probabilities.max(dim=1)[1])\n",
    "        accuracy += equality.type(torch.FloatTensor).mean()\n",
    "    \n",
    "    return val_loss, accuracy"
   ]
  },
  {
   "cell_type": "code",
   "execution_count": 71,
   "metadata": {},
   "outputs": [],
   "source": [
    "# Loss function and gradient descent\n",
    "\n",
    "criterion = nn.NLLLoss()\n",
    "\n",
    "optimizer = optim.Adam(model.classifier.parameters(), lr=0.001)"
   ]
  },
  {
   "cell_type": "code",
   "execution_count": 75,
   "metadata": {},
   "outputs": [
    {
     "name": "stdout",
     "output_type": "stream",
     "text": [
      "Epoch: 1/1..  Training Loss: 0.612..  Validation Loss: 0.407..  Validation Accuracy: 0.912\n",
      "Epoch: 1/1..  Training Loss: 0.369..  Validation Loss: 0.249..  Validation Accuracy: 0.921\n",
      "Epoch: 1/1..  Training Loss: 0.289..  Validation Loss: 0.207..  Validation Accuracy: 0.939\n",
      "Epoch: 1/1..  Training Loss: 0.323..  Validation Loss: 0.233..  Validation Accuracy: 0.922\n",
      "Epoch: 1/1..  Training Loss: 0.271..  Validation Loss: 0.198..  Validation Accuracy: 0.937\n",
      "Epoch: 1/1..  Training Loss: 0.281..  Validation Loss: 0.179..  Validation Accuracy: 0.946\n",
      "Epoch: 1/1..  Training Loss: 0.309..  Validation Loss: 0.215..  Validation Accuracy: 0.938\n",
      "Epoch: 1/1..  Training Loss: 0.283..  Validation Loss: 0.194..  Validation Accuracy: 0.934\n",
      "Epoch: 1/1..  Training Loss: 0.266..  Validation Loss: 0.186..  Validation Accuracy: 0.940\n",
      "Epoch: 1/1..  Training Loss: 0.291..  Validation Loss: 0.218..  Validation Accuracy: 0.932\n",
      "Epoch: 1/1..  Training Loss: 0.258..  Validation Loss: 0.189..  Validation Accuracy: 0.940\n"
     ]
    },
    {
     "ename": "KeyboardInterrupt",
     "evalue": "",
     "output_type": "error",
     "traceback": [
      "\u001B[1;31m---------------------------------------------------------------------------\u001B[0m",
      "\u001B[1;31mKeyboardInterrupt\u001B[0m                         Traceback (most recent call last)",
      "\u001B[1;32mc:\\Users\\45938\\Desktop\\Autonomous Systems\\Master thesis\\Simple_Classifier\\dataset.ipynb Cell 15\u001B[0m in \u001B[0;36m<module>\u001B[1;34m\u001B[0m\n\u001B[0;32m     <a href='vscode-notebook-cell:/c%3A/Users/45938/Desktop/Autonomous%20Systems/Master%20thesis/Simple_Classifier/dataset.ipynb#Y151sZmlsZQ%3D%3D?line=44'>45</a>\u001B[0m                 running_loss \u001B[39m=\u001B[39m \u001B[39m0\u001B[39m\n\u001B[0;32m     <a href='vscode-notebook-cell:/c%3A/Users/45938/Desktop/Autonomous%20Systems/Master%20thesis/Simple_Classifier/dataset.ipynb#Y151sZmlsZQ%3D%3D?line=45'>46</a>\u001B[0m                 model\u001B[39m.\u001B[39mtrain()\n\u001B[1;32m---> <a href='vscode-notebook-cell:/c%3A/Users/45938/Desktop/Autonomous%20Systems/Master%20thesis/Simple_Classifier/dataset.ipynb#Y151sZmlsZQ%3D%3D?line=47'>48</a>\u001B[0m train_classifier()\n",
      "\u001B[1;32mc:\\Users\\45938\\Desktop\\Autonomous Systems\\Master thesis\\Simple_Classifier\\dataset.ipynb Cell 15\u001B[0m in \u001B[0;36mtrain_classifier\u001B[1;34m()\u001B[0m\n\u001B[0;32m     <a href='vscode-notebook-cell:/c%3A/Users/45938/Desktop/Autonomous%20Systems/Master%20thesis/Simple_Classifier/dataset.ipynb#Y151sZmlsZQ%3D%3D?line=35'>36</a>\u001B[0m \u001B[39m# Turn off gradients for validation, saves memory and computations\u001B[39;00m\n\u001B[0;32m     <a href='vscode-notebook-cell:/c%3A/Users/45938/Desktop/Autonomous%20Systems/Master%20thesis/Simple_Classifier/dataset.ipynb#Y151sZmlsZQ%3D%3D?line=36'>37</a>\u001B[0m \u001B[39mwith\u001B[39;00m torch\u001B[39m.\u001B[39mno_grad():\n\u001B[1;32m---> <a href='vscode-notebook-cell:/c%3A/Users/45938/Desktop/Autonomous%20Systems/Master%20thesis/Simple_Classifier/dataset.ipynb#Y151sZmlsZQ%3D%3D?line=37'>38</a>\u001B[0m     validation_loss, accuracy \u001B[39m=\u001B[39m validation(model, val_loader, criterion)\n\u001B[0;32m     <a href='vscode-notebook-cell:/c%3A/Users/45938/Desktop/Autonomous%20Systems/Master%20thesis/Simple_Classifier/dataset.ipynb#Y151sZmlsZQ%3D%3D?line=39'>40</a>\u001B[0m \u001B[39mprint\u001B[39m(\u001B[39m\"\u001B[39m\u001B[39mEpoch: \u001B[39m\u001B[39m{}\u001B[39;00m\u001B[39m/\u001B[39m\u001B[39m{}\u001B[39;00m\u001B[39m.. \u001B[39m\u001B[39m\"\u001B[39m\u001B[39m.\u001B[39mformat(e\u001B[39m+\u001B[39m\u001B[39m1\u001B[39m, epochs),\n\u001B[0;32m     <a href='vscode-notebook-cell:/c%3A/Users/45938/Desktop/Autonomous%20Systems/Master%20thesis/Simple_Classifier/dataset.ipynb#Y151sZmlsZQ%3D%3D?line=40'>41</a>\u001B[0m         \u001B[39m\"\u001B[39m\u001B[39mTraining Loss: \u001B[39m\u001B[39m{:.3f}\u001B[39;00m\u001B[39m.. \u001B[39m\u001B[39m\"\u001B[39m\u001B[39m.\u001B[39mformat(running_loss\u001B[39m/\u001B[39mprint_every),\n\u001B[0;32m     <a href='vscode-notebook-cell:/c%3A/Users/45938/Desktop/Autonomous%20Systems/Master%20thesis/Simple_Classifier/dataset.ipynb#Y151sZmlsZQ%3D%3D?line=41'>42</a>\u001B[0m         \u001B[39m\"\u001B[39m\u001B[39mValidation Loss: \u001B[39m\u001B[39m{:.3f}\u001B[39;00m\u001B[39m.. \u001B[39m\u001B[39m\"\u001B[39m\u001B[39m.\u001B[39mformat(validation_loss\u001B[39m/\u001B[39m\u001B[39mlen\u001B[39m(val_loader)),\n\u001B[0;32m     <a href='vscode-notebook-cell:/c%3A/Users/45938/Desktop/Autonomous%20Systems/Master%20thesis/Simple_Classifier/dataset.ipynb#Y151sZmlsZQ%3D%3D?line=42'>43</a>\u001B[0m         \u001B[39m\"\u001B[39m\u001B[39mValidation Accuracy: \u001B[39m\u001B[39m{:.3f}\u001B[39;00m\u001B[39m\"\u001B[39m\u001B[39m.\u001B[39mformat(accuracy\u001B[39m/\u001B[39m\u001B[39mlen\u001B[39m(val_loader)))\n\u001B[0;32m     <a href='vscode-notebook-cell:/c%3A/Users/45938/Desktop/Autonomous%20Systems/Master%20thesis/Simple_Classifier/dataset.ipynb#Y151sZmlsZQ%3D%3D?line=44'>45</a>\u001B[0m running_loss \u001B[39m=\u001B[39m \u001B[39m0\u001B[39m\n",
      "\u001B[1;32mc:\\Users\\45938\\Desktop\\Autonomous Systems\\Master thesis\\Simple_Classifier\\dataset.ipynb Cell 15\u001B[0m in \u001B[0;36mvalidation\u001B[1;34m(model, validateloader, criterion)\u001B[0m\n\u001B[0;32m      <a href='vscode-notebook-cell:/c%3A/Users/45938/Desktop/Autonomous%20Systems/Master%20thesis/Simple_Classifier/dataset.ipynb#Y151sZmlsZQ%3D%3D?line=4'>5</a>\u001B[0m accuracy \u001B[39m=\u001B[39m \u001B[39m0\u001B[39m\n\u001B[0;32m      <a href='vscode-notebook-cell:/c%3A/Users/45938/Desktop/Autonomous%20Systems/Master%20thesis/Simple_Classifier/dataset.ipynb#Y151sZmlsZQ%3D%3D?line=6'>7</a>\u001B[0m \u001B[39mfor\u001B[39;00m images, labels \u001B[39min\u001B[39;00m \u001B[39miter\u001B[39m(validateloader):\n\u001B[0;32m      <a href='vscode-notebook-cell:/c%3A/Users/45938/Desktop/Autonomous%20Systems/Master%20thesis/Simple_Classifier/dataset.ipynb#Y151sZmlsZQ%3D%3D?line=7'>8</a>\u001B[0m \n\u001B[0;32m      <a href='vscode-notebook-cell:/c%3A/Users/45938/Desktop/Autonomous%20Systems/Master%20thesis/Simple_Classifier/dataset.ipynb#Y151sZmlsZQ%3D%3D?line=8'>9</a>\u001B[0m     \u001B[39m#images, labels = images.to('cuda'), labels.to('cuda')\u001B[39;00m\n\u001B[1;32m---> <a href='vscode-notebook-cell:/c%3A/Users/45938/Desktop/Autonomous%20Systems/Master%20thesis/Simple_Classifier/dataset.ipynb#Y151sZmlsZQ%3D%3D?line=10'>11</a>\u001B[0m     output \u001B[39m=\u001B[39m model\u001B[39m.\u001B[39;49mforward(images)\n\u001B[0;32m     <a href='vscode-notebook-cell:/c%3A/Users/45938/Desktop/Autonomous%20Systems/Master%20thesis/Simple_Classifier/dataset.ipynb#Y151sZmlsZQ%3D%3D?line=11'>12</a>\u001B[0m     val_loss \u001B[39m+\u001B[39m\u001B[39m=\u001B[39m criterion(output, labels)\u001B[39m.\u001B[39mitem()\n\u001B[0;32m     <a href='vscode-notebook-cell:/c%3A/Users/45938/Desktop/Autonomous%20Systems/Master%20thesis/Simple_Classifier/dataset.ipynb#Y151sZmlsZQ%3D%3D?line=13'>14</a>\u001B[0m     probabilities \u001B[39m=\u001B[39m torch\u001B[39m.\u001B[39mexp(output)\n",
      "File \u001B[1;32m~\\AppData\\Local\\Packages\\PythonSoftwareFoundation.Python.3.8_qbz5n2kfra8p0\\LocalCache\\local-packages\\Python38\\site-packages\\torchvision\\models\\vgg.py:66\u001B[0m, in \u001B[0;36mVGG.forward\u001B[1;34m(self, x)\u001B[0m\n\u001B[0;32m     65\u001B[0m \u001B[39mdef\u001B[39;00m \u001B[39mforward\u001B[39m(\u001B[39mself\u001B[39m, x: torch\u001B[39m.\u001B[39mTensor) \u001B[39m-\u001B[39m\u001B[39m>\u001B[39m torch\u001B[39m.\u001B[39mTensor:\n\u001B[1;32m---> 66\u001B[0m     x \u001B[39m=\u001B[39m \u001B[39mself\u001B[39;49m\u001B[39m.\u001B[39;49mfeatures(x)\n\u001B[0;32m     67\u001B[0m     x \u001B[39m=\u001B[39m \u001B[39mself\u001B[39m\u001B[39m.\u001B[39mavgpool(x)\n\u001B[0;32m     68\u001B[0m     x \u001B[39m=\u001B[39m torch\u001B[39m.\u001B[39mflatten(x, \u001B[39m1\u001B[39m)\n",
      "File \u001B[1;32m~\\AppData\\Local\\Packages\\PythonSoftwareFoundation.Python.3.8_qbz5n2kfra8p0\\LocalCache\\local-packages\\Python38\\site-packages\\torch\\nn\\modules\\module.py:1130\u001B[0m, in \u001B[0;36mModule._call_impl\u001B[1;34m(self, *input, **kwargs)\u001B[0m\n\u001B[0;32m   1126\u001B[0m \u001B[39m# If we don't have any hooks, we want to skip the rest of the logic in\u001B[39;00m\n\u001B[0;32m   1127\u001B[0m \u001B[39m# this function, and just call forward.\u001B[39;00m\n\u001B[0;32m   1128\u001B[0m \u001B[39mif\u001B[39;00m \u001B[39mnot\u001B[39;00m (\u001B[39mself\u001B[39m\u001B[39m.\u001B[39m_backward_hooks \u001B[39mor\u001B[39;00m \u001B[39mself\u001B[39m\u001B[39m.\u001B[39m_forward_hooks \u001B[39mor\u001B[39;00m \u001B[39mself\u001B[39m\u001B[39m.\u001B[39m_forward_pre_hooks \u001B[39mor\u001B[39;00m _global_backward_hooks\n\u001B[0;32m   1129\u001B[0m         \u001B[39mor\u001B[39;00m _global_forward_hooks \u001B[39mor\u001B[39;00m _global_forward_pre_hooks):\n\u001B[1;32m-> 1130\u001B[0m     \u001B[39mreturn\u001B[39;00m forward_call(\u001B[39m*\u001B[39;49m\u001B[39minput\u001B[39;49m, \u001B[39m*\u001B[39;49m\u001B[39m*\u001B[39;49mkwargs)\n\u001B[0;32m   1131\u001B[0m \u001B[39m# Do not call functions when jit is used\u001B[39;00m\n\u001B[0;32m   1132\u001B[0m full_backward_hooks, non_full_backward_hooks \u001B[39m=\u001B[39m [], []\n",
      "File \u001B[1;32m~\\AppData\\Local\\Packages\\PythonSoftwareFoundation.Python.3.8_qbz5n2kfra8p0\\LocalCache\\local-packages\\Python38\\site-packages\\torch\\nn\\modules\\container.py:139\u001B[0m, in \u001B[0;36mSequential.forward\u001B[1;34m(self, input)\u001B[0m\n\u001B[0;32m    137\u001B[0m \u001B[39mdef\u001B[39;00m \u001B[39mforward\u001B[39m(\u001B[39mself\u001B[39m, \u001B[39minput\u001B[39m):\n\u001B[0;32m    138\u001B[0m     \u001B[39mfor\u001B[39;00m module \u001B[39min\u001B[39;00m \u001B[39mself\u001B[39m:\n\u001B[1;32m--> 139\u001B[0m         \u001B[39minput\u001B[39m \u001B[39m=\u001B[39m module(\u001B[39minput\u001B[39;49m)\n\u001B[0;32m    140\u001B[0m     \u001B[39mreturn\u001B[39;00m \u001B[39minput\u001B[39m\n",
      "File \u001B[1;32m~\\AppData\\Local\\Packages\\PythonSoftwareFoundation.Python.3.8_qbz5n2kfra8p0\\LocalCache\\local-packages\\Python38\\site-packages\\torch\\nn\\modules\\module.py:1130\u001B[0m, in \u001B[0;36mModule._call_impl\u001B[1;34m(self, *input, **kwargs)\u001B[0m\n\u001B[0;32m   1126\u001B[0m \u001B[39m# If we don't have any hooks, we want to skip the rest of the logic in\u001B[39;00m\n\u001B[0;32m   1127\u001B[0m \u001B[39m# this function, and just call forward.\u001B[39;00m\n\u001B[0;32m   1128\u001B[0m \u001B[39mif\u001B[39;00m \u001B[39mnot\u001B[39;00m (\u001B[39mself\u001B[39m\u001B[39m.\u001B[39m_backward_hooks \u001B[39mor\u001B[39;00m \u001B[39mself\u001B[39m\u001B[39m.\u001B[39m_forward_hooks \u001B[39mor\u001B[39;00m \u001B[39mself\u001B[39m\u001B[39m.\u001B[39m_forward_pre_hooks \u001B[39mor\u001B[39;00m _global_backward_hooks\n\u001B[0;32m   1129\u001B[0m         \u001B[39mor\u001B[39;00m _global_forward_hooks \u001B[39mor\u001B[39;00m _global_forward_pre_hooks):\n\u001B[1;32m-> 1130\u001B[0m     \u001B[39mreturn\u001B[39;00m forward_call(\u001B[39m*\u001B[39;49m\u001B[39minput\u001B[39;49m, \u001B[39m*\u001B[39;49m\u001B[39m*\u001B[39;49mkwargs)\n\u001B[0;32m   1131\u001B[0m \u001B[39m# Do not call functions when jit is used\u001B[39;00m\n\u001B[0;32m   1132\u001B[0m full_backward_hooks, non_full_backward_hooks \u001B[39m=\u001B[39m [], []\n",
      "File \u001B[1;32m~\\AppData\\Local\\Packages\\PythonSoftwareFoundation.Python.3.8_qbz5n2kfra8p0\\LocalCache\\local-packages\\Python38\\site-packages\\torch\\nn\\modules\\conv.py:457\u001B[0m, in \u001B[0;36mConv2d.forward\u001B[1;34m(self, input)\u001B[0m\n\u001B[0;32m    456\u001B[0m \u001B[39mdef\u001B[39;00m \u001B[39mforward\u001B[39m(\u001B[39mself\u001B[39m, \u001B[39minput\u001B[39m: Tensor) \u001B[39m-\u001B[39m\u001B[39m>\u001B[39m Tensor:\n\u001B[1;32m--> 457\u001B[0m     \u001B[39mreturn\u001B[39;00m \u001B[39mself\u001B[39;49m\u001B[39m.\u001B[39;49m_conv_forward(\u001B[39minput\u001B[39;49m, \u001B[39mself\u001B[39;49m\u001B[39m.\u001B[39;49mweight, \u001B[39mself\u001B[39;49m\u001B[39m.\u001B[39;49mbias)\n",
      "File \u001B[1;32m~\\AppData\\Local\\Packages\\PythonSoftwareFoundation.Python.3.8_qbz5n2kfra8p0\\LocalCache\\local-packages\\Python38\\site-packages\\torch\\nn\\modules\\conv.py:453\u001B[0m, in \u001B[0;36mConv2d._conv_forward\u001B[1;34m(self, input, weight, bias)\u001B[0m\n\u001B[0;32m    449\u001B[0m \u001B[39mif\u001B[39;00m \u001B[39mself\u001B[39m\u001B[39m.\u001B[39mpadding_mode \u001B[39m!=\u001B[39m \u001B[39m'\u001B[39m\u001B[39mzeros\u001B[39m\u001B[39m'\u001B[39m:\n\u001B[0;32m    450\u001B[0m     \u001B[39mreturn\u001B[39;00m F\u001B[39m.\u001B[39mconv2d(F\u001B[39m.\u001B[39mpad(\u001B[39minput\u001B[39m, \u001B[39mself\u001B[39m\u001B[39m.\u001B[39m_reversed_padding_repeated_twice, mode\u001B[39m=\u001B[39m\u001B[39mself\u001B[39m\u001B[39m.\u001B[39mpadding_mode),\n\u001B[0;32m    451\u001B[0m                     weight, bias, \u001B[39mself\u001B[39m\u001B[39m.\u001B[39mstride,\n\u001B[0;32m    452\u001B[0m                     _pair(\u001B[39m0\u001B[39m), \u001B[39mself\u001B[39m\u001B[39m.\u001B[39mdilation, \u001B[39mself\u001B[39m\u001B[39m.\u001B[39mgroups)\n\u001B[1;32m--> 453\u001B[0m \u001B[39mreturn\u001B[39;00m F\u001B[39m.\u001B[39;49mconv2d(\u001B[39minput\u001B[39;49m, weight, bias, \u001B[39mself\u001B[39;49m\u001B[39m.\u001B[39;49mstride,\n\u001B[0;32m    454\u001B[0m                 \u001B[39mself\u001B[39;49m\u001B[39m.\u001B[39;49mpadding, \u001B[39mself\u001B[39;49m\u001B[39m.\u001B[39;49mdilation, \u001B[39mself\u001B[39;49m\u001B[39m.\u001B[39;49mgroups)\n",
      "\u001B[1;31mKeyboardInterrupt\u001B[0m: "
     ]
    }
   ],
   "source": [
    "# Train the classifier\n",
    "\n",
    "def train_classifier():\n",
    "\n",
    "    epochs = 1\n",
    "    steps = 0\n",
    "    print_every = 40\n",
    "\n",
    "    #model.to('cuda')\n",
    "\n",
    "    for e in range(epochs):\n",
    "        \n",
    "        model.train()\n",
    "    \n",
    "        running_loss = 0\n",
    "    \n",
    "        for images, labels in iter(train_loader):\n",
    "        \n",
    "            steps += 1\n",
    "        \n",
    "            #images, labels = images.to('cuda'), labels.to('cuda')\n",
    "        \n",
    "            optimizer.zero_grad()\n",
    "        \n",
    "            output = model.forward(images)\n",
    "            loss = criterion(output, labels)\n",
    "            loss.backward()\n",
    "            optimizer.step()\n",
    "        \n",
    "            running_loss += loss.item()\n",
    "        \n",
    "            if steps % print_every == 0:\n",
    "                \n",
    "                model.eval()\n",
    "                \n",
    "                # Turn off gradients for validation, saves memory and computations\n",
    "                with torch.no_grad():\n",
    "                    validation_loss, accuracy = validation(model, val_loader, criterion)\n",
    "            \n",
    "                print(\"Epoch: {}/{}.. \".format(e+1, epochs),\n",
    "                        \"Training Loss: {:.3f}.. \".format(running_loss/print_every),\n",
    "                        \"Validation Loss: {:.3f}.. \".format(validation_loss/len(val_loader)),\n",
    "                        \"Validation Accuracy: {:.3f}\".format(accuracy/len(val_loader)))\n",
    "            \n",
    "                running_loss = 0\n",
    "                model.train()\n",
    "                    \n",
    "train_classifier() "
   ]
  },
  {
   "attachments": {},
   "cell_type": "markdown",
   "metadata": {},
   "source": [
    "# 5. Testing your network"
   ]
  },
  {
   "cell_type": "code",
   "execution_count": 76,
   "metadata": {},
   "outputs": [
    {
     "ename": "KeyboardInterrupt",
     "evalue": "",
     "output_type": "error",
     "traceback": [
      "\u001B[1;31m---------------------------------------------------------------------------\u001B[0m",
      "\u001B[1;31mKeyboardInterrupt\u001B[0m                         Traceback (most recent call last)",
      "\u001B[1;32mc:\\Users\\45938\\Desktop\\Autonomous Systems\\Master thesis\\Simple_Classifier\\dataset.ipynb Cell 17\u001B[0m in \u001B[0;36m<module>\u001B[1;34m\u001B[0m\n\u001B[0;32m     <a href='vscode-notebook-cell:/c%3A/Users/45938/Desktop/Autonomous%20Systems/Master%20thesis/Simple_Classifier/dataset.ipynb#Y153sZmlsZQ%3D%3D?line=20'>21</a>\u001B[0m             accuracy \u001B[39m+\u001B[39m\u001B[39m=\u001B[39m equality\u001B[39m.\u001B[39mtype(torch\u001B[39m.\u001B[39mFloatTensor)\u001B[39m.\u001B[39mmean()\n\u001B[0;32m     <a href='vscode-notebook-cell:/c%3A/Users/45938/Desktop/Autonomous%20Systems/Master%20thesis/Simple_Classifier/dataset.ipynb#Y153sZmlsZQ%3D%3D?line=22'>23</a>\u001B[0m         \u001B[39mprint\u001B[39m(\u001B[39m\"\u001B[39m\u001B[39mTest Accuracy: \u001B[39m\u001B[39m{}\u001B[39;00m\u001B[39m\"\u001B[39m\u001B[39m.\u001B[39mformat(accuracy\u001B[39m/\u001B[39m\u001B[39mlen\u001B[39m(test_loader)))    \n\u001B[1;32m---> <a href='vscode-notebook-cell:/c%3A/Users/45938/Desktop/Autonomous%20Systems/Master%20thesis/Simple_Classifier/dataset.ipynb#Y153sZmlsZQ%3D%3D?line=25'>26</a>\u001B[0m test_accuracy(model, test_loader)\n",
      "\u001B[1;32mc:\\Users\\45938\\Desktop\\Autonomous Systems\\Master thesis\\Simple_Classifier\\dataset.ipynb Cell 17\u001B[0m in \u001B[0;36mtest_accuracy\u001B[1;34m(model, test_loader)\u001B[0m\n\u001B[0;32m      <a href='vscode-notebook-cell:/c%3A/Users/45938/Desktop/Autonomous%20Systems/Master%20thesis/Simple_Classifier/dataset.ipynb#Y153sZmlsZQ%3D%3D?line=8'>9</a>\u001B[0m accuracy \u001B[39m=\u001B[39m \u001B[39m0\u001B[39m\n\u001B[0;32m     <a href='vscode-notebook-cell:/c%3A/Users/45938/Desktop/Autonomous%20Systems/Master%20thesis/Simple_Classifier/dataset.ipynb#Y153sZmlsZQ%3D%3D?line=10'>11</a>\u001B[0m \u001B[39mfor\u001B[39;00m images, labels \u001B[39min\u001B[39;00m \u001B[39miter\u001B[39m(test_loader):\n\u001B[0;32m     <a href='vscode-notebook-cell:/c%3A/Users/45938/Desktop/Autonomous%20Systems/Master%20thesis/Simple_Classifier/dataset.ipynb#Y153sZmlsZQ%3D%3D?line=11'>12</a>\u001B[0m \n\u001B[0;32m     <a href='vscode-notebook-cell:/c%3A/Users/45938/Desktop/Autonomous%20Systems/Master%20thesis/Simple_Classifier/dataset.ipynb#Y153sZmlsZQ%3D%3D?line=12'>13</a>\u001B[0m     \u001B[39m#images, labels = images.to('cuda'), labels.to('cuda')\u001B[39;00m\n\u001B[1;32m---> <a href='vscode-notebook-cell:/c%3A/Users/45938/Desktop/Autonomous%20Systems/Master%20thesis/Simple_Classifier/dataset.ipynb#Y153sZmlsZQ%3D%3D?line=14'>15</a>\u001B[0m     output \u001B[39m=\u001B[39m model\u001B[39m.\u001B[39;49mforward(images)\n\u001B[0;32m     <a href='vscode-notebook-cell:/c%3A/Users/45938/Desktop/Autonomous%20Systems/Master%20thesis/Simple_Classifier/dataset.ipynb#Y153sZmlsZQ%3D%3D?line=16'>17</a>\u001B[0m     probabilities \u001B[39m=\u001B[39m torch\u001B[39m.\u001B[39mexp(output)\n\u001B[0;32m     <a href='vscode-notebook-cell:/c%3A/Users/45938/Desktop/Autonomous%20Systems/Master%20thesis/Simple_Classifier/dataset.ipynb#Y153sZmlsZQ%3D%3D?line=18'>19</a>\u001B[0m     equality \u001B[39m=\u001B[39m (labels\u001B[39m.\u001B[39mdata \u001B[39m==\u001B[39m probabilities\u001B[39m.\u001B[39mmax(dim\u001B[39m=\u001B[39m\u001B[39m1\u001B[39m)[\u001B[39m1\u001B[39m])\n",
      "File \u001B[1;32m~\\AppData\\Local\\Packages\\PythonSoftwareFoundation.Python.3.8_qbz5n2kfra8p0\\LocalCache\\local-packages\\Python38\\site-packages\\torchvision\\models\\vgg.py:66\u001B[0m, in \u001B[0;36mVGG.forward\u001B[1;34m(self, x)\u001B[0m\n\u001B[0;32m     65\u001B[0m \u001B[39mdef\u001B[39;00m \u001B[39mforward\u001B[39m(\u001B[39mself\u001B[39m, x: torch\u001B[39m.\u001B[39mTensor) \u001B[39m-\u001B[39m\u001B[39m>\u001B[39m torch\u001B[39m.\u001B[39mTensor:\n\u001B[1;32m---> 66\u001B[0m     x \u001B[39m=\u001B[39m \u001B[39mself\u001B[39;49m\u001B[39m.\u001B[39;49mfeatures(x)\n\u001B[0;32m     67\u001B[0m     x \u001B[39m=\u001B[39m \u001B[39mself\u001B[39m\u001B[39m.\u001B[39mavgpool(x)\n\u001B[0;32m     68\u001B[0m     x \u001B[39m=\u001B[39m torch\u001B[39m.\u001B[39mflatten(x, \u001B[39m1\u001B[39m)\n",
      "File \u001B[1;32m~\\AppData\\Local\\Packages\\PythonSoftwareFoundation.Python.3.8_qbz5n2kfra8p0\\LocalCache\\local-packages\\Python38\\site-packages\\torch\\nn\\modules\\module.py:1130\u001B[0m, in \u001B[0;36mModule._call_impl\u001B[1;34m(self, *input, **kwargs)\u001B[0m\n\u001B[0;32m   1126\u001B[0m \u001B[39m# If we don't have any hooks, we want to skip the rest of the logic in\u001B[39;00m\n\u001B[0;32m   1127\u001B[0m \u001B[39m# this function, and just call forward.\u001B[39;00m\n\u001B[0;32m   1128\u001B[0m \u001B[39mif\u001B[39;00m \u001B[39mnot\u001B[39;00m (\u001B[39mself\u001B[39m\u001B[39m.\u001B[39m_backward_hooks \u001B[39mor\u001B[39;00m \u001B[39mself\u001B[39m\u001B[39m.\u001B[39m_forward_hooks \u001B[39mor\u001B[39;00m \u001B[39mself\u001B[39m\u001B[39m.\u001B[39m_forward_pre_hooks \u001B[39mor\u001B[39;00m _global_backward_hooks\n\u001B[0;32m   1129\u001B[0m         \u001B[39mor\u001B[39;00m _global_forward_hooks \u001B[39mor\u001B[39;00m _global_forward_pre_hooks):\n\u001B[1;32m-> 1130\u001B[0m     \u001B[39mreturn\u001B[39;00m forward_call(\u001B[39m*\u001B[39;49m\u001B[39minput\u001B[39;49m, \u001B[39m*\u001B[39;49m\u001B[39m*\u001B[39;49mkwargs)\n\u001B[0;32m   1131\u001B[0m \u001B[39m# Do not call functions when jit is used\u001B[39;00m\n\u001B[0;32m   1132\u001B[0m full_backward_hooks, non_full_backward_hooks \u001B[39m=\u001B[39m [], []\n",
      "File \u001B[1;32m~\\AppData\\Local\\Packages\\PythonSoftwareFoundation.Python.3.8_qbz5n2kfra8p0\\LocalCache\\local-packages\\Python38\\site-packages\\torch\\nn\\modules\\container.py:139\u001B[0m, in \u001B[0;36mSequential.forward\u001B[1;34m(self, input)\u001B[0m\n\u001B[0;32m    137\u001B[0m \u001B[39mdef\u001B[39;00m \u001B[39mforward\u001B[39m(\u001B[39mself\u001B[39m, \u001B[39minput\u001B[39m):\n\u001B[0;32m    138\u001B[0m     \u001B[39mfor\u001B[39;00m module \u001B[39min\u001B[39;00m \u001B[39mself\u001B[39m:\n\u001B[1;32m--> 139\u001B[0m         \u001B[39minput\u001B[39m \u001B[39m=\u001B[39m module(\u001B[39minput\u001B[39;49m)\n\u001B[0;32m    140\u001B[0m     \u001B[39mreturn\u001B[39;00m \u001B[39minput\u001B[39m\n",
      "File \u001B[1;32m~\\AppData\\Local\\Packages\\PythonSoftwareFoundation.Python.3.8_qbz5n2kfra8p0\\LocalCache\\local-packages\\Python38\\site-packages\\torch\\nn\\modules\\module.py:1130\u001B[0m, in \u001B[0;36mModule._call_impl\u001B[1;34m(self, *input, **kwargs)\u001B[0m\n\u001B[0;32m   1126\u001B[0m \u001B[39m# If we don't have any hooks, we want to skip the rest of the logic in\u001B[39;00m\n\u001B[0;32m   1127\u001B[0m \u001B[39m# this function, and just call forward.\u001B[39;00m\n\u001B[0;32m   1128\u001B[0m \u001B[39mif\u001B[39;00m \u001B[39mnot\u001B[39;00m (\u001B[39mself\u001B[39m\u001B[39m.\u001B[39m_backward_hooks \u001B[39mor\u001B[39;00m \u001B[39mself\u001B[39m\u001B[39m.\u001B[39m_forward_hooks \u001B[39mor\u001B[39;00m \u001B[39mself\u001B[39m\u001B[39m.\u001B[39m_forward_pre_hooks \u001B[39mor\u001B[39;00m _global_backward_hooks\n\u001B[0;32m   1129\u001B[0m         \u001B[39mor\u001B[39;00m _global_forward_hooks \u001B[39mor\u001B[39;00m _global_forward_pre_hooks):\n\u001B[1;32m-> 1130\u001B[0m     \u001B[39mreturn\u001B[39;00m forward_call(\u001B[39m*\u001B[39;49m\u001B[39minput\u001B[39;49m, \u001B[39m*\u001B[39;49m\u001B[39m*\u001B[39;49mkwargs)\n\u001B[0;32m   1131\u001B[0m \u001B[39m# Do not call functions when jit is used\u001B[39;00m\n\u001B[0;32m   1132\u001B[0m full_backward_hooks, non_full_backward_hooks \u001B[39m=\u001B[39m [], []\n",
      "File \u001B[1;32m~\\AppData\\Local\\Packages\\PythonSoftwareFoundation.Python.3.8_qbz5n2kfra8p0\\LocalCache\\local-packages\\Python38\\site-packages\\torch\\nn\\modules\\conv.py:457\u001B[0m, in \u001B[0;36mConv2d.forward\u001B[1;34m(self, input)\u001B[0m\n\u001B[0;32m    456\u001B[0m \u001B[39mdef\u001B[39;00m \u001B[39mforward\u001B[39m(\u001B[39mself\u001B[39m, \u001B[39minput\u001B[39m: Tensor) \u001B[39m-\u001B[39m\u001B[39m>\u001B[39m Tensor:\n\u001B[1;32m--> 457\u001B[0m     \u001B[39mreturn\u001B[39;00m \u001B[39mself\u001B[39;49m\u001B[39m.\u001B[39;49m_conv_forward(\u001B[39minput\u001B[39;49m, \u001B[39mself\u001B[39;49m\u001B[39m.\u001B[39;49mweight, \u001B[39mself\u001B[39;49m\u001B[39m.\u001B[39;49mbias)\n",
      "File \u001B[1;32m~\\AppData\\Local\\Packages\\PythonSoftwareFoundation.Python.3.8_qbz5n2kfra8p0\\LocalCache\\local-packages\\Python38\\site-packages\\torch\\nn\\modules\\conv.py:453\u001B[0m, in \u001B[0;36mConv2d._conv_forward\u001B[1;34m(self, input, weight, bias)\u001B[0m\n\u001B[0;32m    449\u001B[0m \u001B[39mif\u001B[39;00m \u001B[39mself\u001B[39m\u001B[39m.\u001B[39mpadding_mode \u001B[39m!=\u001B[39m \u001B[39m'\u001B[39m\u001B[39mzeros\u001B[39m\u001B[39m'\u001B[39m:\n\u001B[0;32m    450\u001B[0m     \u001B[39mreturn\u001B[39;00m F\u001B[39m.\u001B[39mconv2d(F\u001B[39m.\u001B[39mpad(\u001B[39minput\u001B[39m, \u001B[39mself\u001B[39m\u001B[39m.\u001B[39m_reversed_padding_repeated_twice, mode\u001B[39m=\u001B[39m\u001B[39mself\u001B[39m\u001B[39m.\u001B[39mpadding_mode),\n\u001B[0;32m    451\u001B[0m                     weight, bias, \u001B[39mself\u001B[39m\u001B[39m.\u001B[39mstride,\n\u001B[0;32m    452\u001B[0m                     _pair(\u001B[39m0\u001B[39m), \u001B[39mself\u001B[39m\u001B[39m.\u001B[39mdilation, \u001B[39mself\u001B[39m\u001B[39m.\u001B[39mgroups)\n\u001B[1;32m--> 453\u001B[0m \u001B[39mreturn\u001B[39;00m F\u001B[39m.\u001B[39;49mconv2d(\u001B[39minput\u001B[39;49m, weight, bias, \u001B[39mself\u001B[39;49m\u001B[39m.\u001B[39;49mstride,\n\u001B[0;32m    454\u001B[0m                 \u001B[39mself\u001B[39;49m\u001B[39m.\u001B[39;49mpadding, \u001B[39mself\u001B[39;49m\u001B[39m.\u001B[39;49mdilation, \u001B[39mself\u001B[39;49m\u001B[39m.\u001B[39;49mgroups)\n",
      "\u001B[1;31mKeyboardInterrupt\u001B[0m: "
     ]
    }
   ],
   "source": [
    "def test_accuracy(model, test_loader):\n",
    "\n",
    "    # Do validation on the test set\n",
    "    model.eval()\n",
    "    #model.to('cuda')\n",
    "\n",
    "    with torch.no_grad():\n",
    "    \n",
    "        accuracy = 0\n",
    "    \n",
    "        for images, labels in iter(test_loader):\n",
    "    \n",
    "            #images, labels = images.to('cuda'), labels.to('cuda')\n",
    "    \n",
    "            output = model.forward(images)\n",
    "\n",
    "            probabilities = torch.exp(output)\n",
    "        \n",
    "            equality = (labels.data == probabilities.max(dim=1)[1])\n",
    "        \n",
    "            accuracy += equality.type(torch.FloatTensor).mean()\n",
    "        \n",
    "        print(\"Test Accuracy: {}\".format(accuracy/len(test_loader)))    \n",
    "        \n",
    "        \n",
    "test_accuracy(model, test_loader)"
   ]
  },
  {
   "attachments": {},
   "cell_type": "markdown",
   "metadata": {},
   "source": [
    "# 6. Save the checkpoint"
   ]
  },
  {
   "cell_type": "code",
   "execution_count": 77,
   "metadata": {},
   "outputs": [],
   "source": [
    "# Save the checkpoint\n",
    "\n",
    "def save_checkpoint(model):\n",
    "\n",
    "    model.class_to_idx = training_dataset.class_to_idx\n",
    "\n",
    "    checkpoint = {'arch': \"vgg16\",\n",
    "                  'class_to_idx': model.class_to_idx,\n",
    "                  'model_state_dict': model.state_dict()\n",
    "                 }\n",
    "\n",
    "    torch.save(checkpoint, 'checkpoint.pth')\n",
    "    \n",
    "save_checkpoint(model)   "
   ]
  },
  {
   "cell_type": "code",
   "execution_count": 78,
   "metadata": {},
   "outputs": [],
   "source": [
    "# Load the checkpoint \n",
    "\n",
    "from collections import OrderedDict\n",
    "\n",
    "# Function that loads a checkpoint and rebuilds the model\n",
    "\n",
    "def load_checkpoint(filepath):\n",
    "    \n",
    "    checkpoint = torch.load(filepath)\n",
    "    \n",
    "    if checkpoint['arch'] == 'vgg16':\n",
    "        \n",
    "        model = models.vgg16(pretrained=True)\n",
    "        \n",
    "        for param in model.parameters():\n",
    "            param.requires_grad = False\n",
    "    else:\n",
    "        print(\"Architecture not recognized.\")\n",
    "    \n",
    "    model.class_to_idx = checkpoint['class_to_idx']\n",
    "    \n",
    "    classifier = nn.Sequential(OrderedDict([('fc1', nn.Linear(25088, 5000)),\n",
    "                                            ('relu', nn.ReLU()),\n",
    "                                            ('drop', nn.Dropout(p=0.5)),\n",
    "                                            ('fc2', nn.Linear(5000, 102)),\n",
    "                                            ('output', nn.LogSoftmax(dim=1))]))\n",
    "\n",
    "    model.classifier = classifier\n",
    "    \n",
    "    model.load_state_dict(checkpoint['model_state_dict'])\n",
    "    \n",
    "    return model\n",
    "\n",
    "#model = load_checkpoint('checkpoint.pth')\n",
    "#print(model)"
   ]
  },
  {
   "attachments": {},
   "cell_type": "markdown",
   "metadata": {},
   "source": [
    "# 7. Inference for classification"
   ]
  },
  {
   "cell_type": "code",
   "execution_count": 79,
   "metadata": {},
   "outputs": [],
   "source": [
    "# Image processing :\n",
    "from PIL import Image\n",
    "\n",
    "def process_image(image_path):\n",
    "    ''' Scales, crops, and normalizes a PIL image for a PyTorch model,\n",
    "        returns an Numpy array\n",
    "    '''\n",
    "    \n",
    "    # Process a PIL image for use in a PyTorch model\n",
    "    \n",
    "    pil_image = Image.open(image_path)\n",
    "    \n",
    "    # Resize\n",
    "    if pil_image.size[0] > pil_image.size[1]:\n",
    "        pil_image.thumbnail((5000, 256))\n",
    "    else:\n",
    "        pil_image.thumbnail((256, 5000))\n",
    "        \n",
    "    # Crop \n",
    "    left_margin = (pil_image.width-224)/2\n",
    "    bottom_margin = (pil_image.height-224)/2\n",
    "    right_margin = left_margin + 224\n",
    "    top_margin = bottom_margin + 224\n",
    "    \n",
    "    pil_image = pil_image.crop((left_margin, bottom_margin, right_margin, top_margin))\n",
    "    \n",
    "    # Normalize\n",
    "    np_image = np.array(pil_image)/255\n",
    "    mean = np.array([0.485, 0.456, 0.406])\n",
    "    std = np.array([0.229, 0.224, 0.225])\n",
    "    np_image = (np_image - mean) / std\n",
    "    \n",
    "    # PyTorch expects the color channel to be the first dimension but it's the third dimension in the PIL image and Numpy array\n",
    "    # Color channel needs to be first; retain the order of the other two dimensions.\n",
    "    np_image = np_image.transpose((2, 0, 1))\n",
    "    \n",
    "    return np_image"
   ]
  },
  {
   "cell_type": "code",
   "execution_count": 81,
   "metadata": {},
   "outputs": [
    {
     "data": {
      "text/plain": [
       "<AxesSubplot:>"
      ]
     },
     "execution_count": 81,
     "metadata": {},
     "output_type": "execute_result"
    },
    {
     "data": {
      "image/png": "[encoded data removed]",
      "text/plain": [
       "<Figure size 432x288 with 1 Axes>"
      ]
     },
     "metadata": {
      "needs_background": "light"
     },
     "output_type": "display_data"
    }
   ],
   "source": [
    "def imshow(image, ax=None, title=None):\n",
    "    if ax is None:\n",
    "        fig, ax = plt.subplots()\n",
    "    \n",
    "    # PyTorch tensors assume the color channel is the first dimension\n",
    "    # but matplotlib assumes is the third dimension\n",
    "    image = image.transpose((1, 2, 0))\n",
    "    \n",
    "    # Undo preprocessing\n",
    "    mean = np.array([0.485, 0.456, 0.406])\n",
    "    std = np.array([0.229, 0.224, 0.225])\n",
    "    image = std * image + mean\n",
    "    \n",
    "    if title is not None:\n",
    "        ax.set_title(title)\n",
    "    \n",
    "    # Image needs to be clipped between 0 and 1 or it looks like noise when displayed\n",
    "    image = np.clip(image, 0, 1)\n",
    "    \n",
    "    ax.imshow(image)\n",
    "    \n",
    "    return ax\n",
    "\n",
    "image = process_image('split_data/test/DL/0c105560-0cd8-11ed-a424-2cf05d55567e.jpg')\n",
    "imshow(image)"
   ]
  },
  {
   "cell_type": "code",
   "execution_count": 90,
   "metadata": {},
   "outputs": [
    {
     "name": "stdout",
     "output_type": "stream",
     "text": [
      "[0.9982153177261353, 0.0017846929840743542, 1.385055981018013e-08]\n",
      "['DL', 'OT', 'FO']\n"
     ]
    }
   ],
   "source": [
    "# Implement the code to predict the class from an image file\n",
    "\n",
    "def predict(image_path, model, topk=3):\n",
    "    ''' Predict the class (or classes) of an image using a trained deep learning model.\n",
    "    '''\n",
    "    \n",
    "    image = process_image(image_path)\n",
    "    \n",
    "    # Convert image to PyTorch tensor first\n",
    "    #image = torch.from_numpy(image).type(torch.cuda.FloatTensor)\n",
    "    image = torch.from_numpy(image).type(torch.FloatTensor)\n",
    "\n",
    "    #print(image.shape)\n",
    "    #print(type(image))\n",
    "    \n",
    "    # Returns a new tensor with a dimension of size one inserted at the specified position.\n",
    "    image = image.unsqueeze(0)\n",
    "    \n",
    "    output = model.forward(image)\n",
    "    \n",
    "    probabilities = torch.exp(output)\n",
    "    \n",
    "    # Probabilities and the indices of those probabilities corresponding to the classes\n",
    "    top_probabilities, top_indices = probabilities.topk(topk)\n",
    "    \n",
    "    # Convert to lists\n",
    "    top_probabilities = top_probabilities.detach().type(torch.FloatTensor).numpy().tolist()[0] \n",
    "    top_indices = top_indices.detach().type(torch.FloatTensor).numpy().tolist()[0] \n",
    "    \n",
    "    # Convert topk_indices to the actual class labels using class_to_idx\n",
    "    # Invert the dictionary so you get a mapping from index to class.\n",
    "    \n",
    "    idx_to_class = {value: key for key, value in model.class_to_idx.items()}\n",
    "    #print(idx_to_class)\n",
    "    \n",
    "    top_classes = [idx_to_class[index] for index in top_indices]\n",
    "    \n",
    "    return top_probabilities, top_classes\n",
    "    \n",
    "probs, classes = predict('split_data/test/DL/0c105560-0cd8-11ed-a424-2cf05d55567e.jpg', model)   \n",
    "print(probs)\n",
    "print(classes)"
   ]
  },
  {
   "attachments": {},
   "cell_type": "markdown",
   "metadata": {},
   "source": [
    "# 8. Other models"
   ]
  },
  {
   "cell_type": "code",
   "execution_count": 36,
   "metadata": {},
   "outputs": [],
   "source": [
    "class BasicBlock(nn.Module):\n",
    "    def __init__(self, input_dim, output_dim, kernel_size=3, stride=1, padding=1):\n",
    "        nn.Module.__init__(self)\n",
    "        self.input_dim = input_dim\n",
    "        self.output_dim = output_dim\n",
    "        self.layer_1 = nn.Sequential(\n",
    "            nn.Conv2d(in_channels=input_dim, out_channels=output_dim,\n",
    "                      kernel_size=kernel_size, stride=stride, padding=padding),\n",
    "            nn.BatchNorm2d(output_dim),\n",
    "        )\n",
    "        self.layer_2 = nn.Sequential(\n",
    "            nn.Conv2d(in_channels=output_dim, out_channels=output_dim,\n",
    "                      kernel_size=kernel_size, stride=stride, padding=padding),\n",
    "            nn.BatchNorm2d(output_dim),\n",
    "        )\n",
    "        self.relu = nn.ReLU()\n",
    "        if self.input_dim != self.output_dim:\n",
    "            self.residual_layer = nn.Sequential(\n",
    "                nn.Conv2d(in_channels=input_dim, out_channels=output_dim,\n",
    "                          kernel_size=1, stride=stride, padding=0),\n",
    "                nn.BatchNorm2d(output_dim),\n",
    "            )\n",
    "\n",
    "    def forward(self, input):\n",
    "        x = self.layer_1(input)\n",
    "        x = self.relu(x)\n",
    "        x = self.layer_2(x)\n",
    "        if self.input_dim != self.output_dim:\n",
    "            residual = self.residual_layer(input)\n",
    "        else:\n",
    "            residual = input\n",
    "        x += residual\n",
    "        output = self.relu(x)\n",
    "        return output"
   ]
  },
  {
   "cell_type": "code",
   "execution_count": 37,
   "metadata": {},
   "outputs": [],
   "source": [
    "def create_cascade_block(input_dims, output_dims, block, **block_args):\n",
    "    num_channels = len(input_dims)\n",
    "    cascade = []\n",
    "    for n in range(num_channels):\n",
    "        cascade.append(\n",
    "            block(input_dim=input_dims[n], output_dim=output_dims[n], **block_args))\n",
    "    return nn.Sequential(*cascade)"
   ]
  },
  {
   "cell_type": "code",
   "execution_count": 38,
   "metadata": {},
   "outputs": [],
   "source": [
    "class ConvNet(nn.Module):\n",
    "    def __init__(self, input_dim=3, input_size=256, output_dim=7, channel_sizes=[16, 32, 64, 128, 256], kernel_size=3, stride=1):\n",
    "        super(ConvNet, self).__init__()\n",
    "\n",
    "        self.input_size = input_size\n",
    "        self.channel_sizes = channel_sizes\n",
    "        self.num_channels = len(channel_sizes) - 1\n",
    "\n",
    "        self.input_layer = nn.Sequential(\n",
    "            nn.Conv2d(in_channels=input_dim,\n",
    "                      out_channels=self.channel_sizes[0], kernel_size=kernel_size, stride=stride, padding=int((kernel_size - 1) / 2)),\n",
    "            nn.BatchNorm2d(channel_sizes[0]),\n",
    "            nn.ReLU(),\n",
    "        )\n",
    "        self.convolutions = create_cascade_block(\n",
    "            input_dims=self.channel_sizes[:-1], output_dims=self.channel_sizes[1:], block=BasicBlock, kernel_size=kernel_size, stride=stride, padding=int((kernel_size - 1) / 2))\n",
    "        self.pooling = nn.MaxPool2d(kernel_size=2)\n",
    "\n",
    "        self.output_layer =  nn.Sequential(\n",
    "            nn.Linear(in_features=int((self.input_size / (2 ** self.num_channels)) * (self.input_size / (2 ** self.num_channels)) * self.channel_sizes[-1]), out_features=self.channel_sizes[-1]),\n",
    "            nn.BatchNorm1d(channel_sizes[-1]),\n",
    "            nn.ReLU(),\n",
    "            nn.Linear(in_features=self.channel_sizes[-1], out_features=output_dim),\n",
    "        )\n",
    "    def forward(self, input):\n",
    "\n",
    "        x = self.input_layer(input)\n",
    "        \n",
    "        for block in self.convolutions:\n",
    "            x = self.pooling(x)\n",
    "            x = block(x)\n",
    "            \n",
    "        x = x.view(-1, int((self.input_size / (2 ** self.num_channels)) *\n",
    "                   (self.input_size / (2 ** self.num_channels)) * self.channel_sizes[-1]))\n",
    "        output = self.output_layer(x)\n",
    "        return output"
   ]
  },
  {
   "cell_type": "code",
   "execution_count": null,
   "metadata": {},
   "outputs": [],
   "source": [
    "net = ConvNet()\n",
    "net"
   ]
  }
 ],
 "metadata": {
  "kernelspec": {
   "display_name": "Python 3",
   "language": "python",
   "name": "python3"
  },
  "language_info": {
   "codemirror_mode": {
    "name": "ipython",
    "version": 3
   },
   "file_extension": ".py",
   "mimetype": "text/x-python",
   "name": "python",
   "nbconvert_exporter": "python",
   "pygments_lexer": "ipython3",
   "version": "3.8.10"
  },
  "vscode": {
   "interpreter": {
    "hash": "1950a956f3762215e80880b0815fc05e6ef9d81e11141eb80496edb2dacad9bb"
   }
  }
 },
 "nbformat": 4,
 "nbformat_minor": 4
}
